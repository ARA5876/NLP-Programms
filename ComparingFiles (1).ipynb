{
 "cells": [
  {
   "cell_type": "code",
   "execution_count": 10,
   "id": "772a2c3c",
   "metadata": {},
   "outputs": [
    {
     "data": {
      "text/plain": [
       "CountVectorizer(binary=True)"
      ]
     },
     "execution_count": 10,
     "metadata": {},
     "output_type": "execute_result"
    }
   ],
   "source": [
    "from sklearn.feature_extraction.text import CountVectorizer\n",
    "vect = CountVectorizer(binary=True)\n",
    "vect"
   ]
  },
  {
   "cell_type": "code",
   "execution_count": 25,
   "id": "9885c530",
   "metadata": {},
   "outputs": [],
   "source": [
    "# corpus=[\"I have a German Shepherd\",\"German Shepherd is from Germany\",\"Germans love gossiping\"]\n",
    "corpus=[\"A recent study by researchers from the University of Vienna found that giraffes produce a low hum in the evenings\",\"As Wired points out, it was earlier assumed that giraffes couldn’t really produce any sounds because they couldn’t get enough airflow through their long necks to make their vocal chords vibrate.\",\"As it turns out, a giraffe’s larynx is similar to that of a horse.\",\" But while zookeepers have heard giraffes snort, the humming had never been picked up by the staff of the three European zoos in the study.\",\"The researchers had to visually examine the giraffes’ acoustic data—over 900 hours of recordings made over eight years—to discover the humming.\",\"The sound is at a very low frequency, 92Hz, which while not impossible to hear for humans, requires effort to pick up.\"]"
   ]
  },
  {
   "cell_type": "code",
   "execution_count": 26,
   "id": "f8435082",
   "metadata": {},
   "outputs": [
    {
     "data": {
      "text/plain": [
       "CountVectorizer(binary=True)"
      ]
     },
     "execution_count": 26,
     "metadata": {},
     "output_type": "execute_result"
    }
   ],
   "source": [
    "vect.fit(corpus)"
   ]
  },
  {
   "cell_type": "code",
   "execution_count": 27,
   "id": "3fd8ac4f",
   "metadata": {},
   "outputs": [],
   "source": [
    "vocab=vect.vocabulary_"
   ]
  },
  {
   "cell_type": "code",
   "execution_count": 28,
   "id": "fcefe213",
   "metadata": {},
   "outputs": [
    {
     "name": "stdout",
     "output_type": "stream",
     "text": [
      "recent:59\n",
      "study:68\n",
      "by:11\n",
      "researchers:62\n",
      "from:26\n",
      "the:70\n",
      "university:77\n",
      "of:51\n",
      "vienna:81\n",
      "found:24\n",
      "that:69\n",
      "giraffes:29\n",
      "produce:57\n",
      "low:45\n",
      "hum:36\n",
      "in:40\n",
      "evenings:21\n",
      "as:5\n",
      "wired:87\n",
      "points:56\n",
      "out:52\n",
      "it:42\n",
      "was:84\n",
      "earlier:16\n",
      "assumed:6\n",
      "couldn:13\n",
      "really:58\n",
      "any:4\n",
      "sounds:66\n",
      "because:8\n",
      "they:72\n",
      "get:27\n",
      "enough:19\n",
      "airflow:3\n",
      "through:74\n",
      "their:71\n",
      "long:44\n",
      "necks:48\n",
      "to:75\n",
      "make:47\n",
      "vocal:83\n",
      "chords:12\n",
      "vibrate:80\n",
      "turns:76\n",
      "giraffe:28\n",
      "larynx:43\n",
      "is:41\n",
      "similar:63\n",
      "horse:34\n",
      "but:10\n",
      "while:86\n",
      "zookeepers:89\n",
      "have:31\n",
      "heard:33\n",
      "snort:64\n",
      "humming:38\n",
      "had:30\n",
      "never:49\n",
      "been:9\n",
      "picked:55\n",
      "up:78\n",
      "staff:67\n",
      "three:73\n",
      "european:20\n",
      "zoos:90\n",
      "visually:82\n",
      "examine:22\n",
      "acoustic:2\n",
      "data:14\n",
      "over:53\n",
      "900:0\n",
      "hours:35\n",
      "recordings:60\n",
      "made:46\n",
      "eight:18\n",
      "years:88\n",
      "discover:15\n",
      "sound:65\n",
      "at:7\n",
      "very:79\n",
      "frequency:25\n",
      "92hz:1\n",
      "which:85\n",
      "not:50\n",
      "impossible:39\n",
      "hear:32\n",
      "for:23\n",
      "humans:37\n",
      "requires:61\n",
      "effort:17\n",
      "pick:54\n"
     ]
    }
   ],
   "source": [
    "for key in vocab.keys():\n",
    "    print(\"{}:{}\".format(key,vocab[key]))"
   ]
  },
  {
   "cell_type": "code",
   "execution_count": 35,
   "id": "b744425f",
   "metadata": {},
   "outputs": [
    {
     "name": "stdout",
     "output_type": "stream",
     "text": [
      "[[1 1 1 1 1 1 1 1 1 1 1 1 1 1 1 1 1 1 1 1 1 1 1 1 1 1 1 1 1 1 1 1 1 1 1 1\n",
      "  1 1 1 1 1 1 1 1 1 1 1 1 1 1 1 1 1 1 1 1 1 1 1 1 1 1 1 1 1 1 1 1 1 1 1 1\n",
      "  1 1 1 1 1 1 1 1 1 1 1 1 1 1 1 1 1 1 1]]\n"
     ]
    }
   ],
   "source": [
    "print(vect.transform([\"A recent study by researchers from the University of Vienna found that giraffes produce a low hum in the evenings. As Wired points out, it was earlier assumed that giraffes couldn’t really produce any sounds because they couldn’t get enough airflow through their long necks to make their vocal chords vibrate. As it turns out, a giraffe’s larynx is similar to that of a horse. But while zookeepers have heard giraffes snort, the humming had never been picked up by the staff of the three European zoos in the study.The researchers had to visually examine the giraffes’ acoustic data—over 900 hours of recordings made over eight years—to discover the humming. The sound is at a very low frequency, 92Hz, which while not impossible to hear for humans, requires effort to pick up. Click on the recording below to listen\"]).toarray())"
   ]
  },
  {
   "cell_type": "code",
   "execution_count": 33,
   "id": "0993cc63",
   "metadata": {},
   "outputs": [],
   "source": [
    "from sklearn.metrics.pairwise import cosine_similarity\n",
    "similarity= cosine_similarity(vect.transform([\"We are familiar with many animal sounds – a lion’s roar, a dog’s bark, a parrot’s squawk – but what sound comes to mind when you think of a giraffe? The long-necked beasts make basic sounds like snorts or bursts through their nose, but nothing you could identify with a nice label – until now.Biologists say they have discovered that giraffes hum. People had earlier speculated that giraffes are unable to produce any substantial sounds because it is physically difficult for them to generate sufficient airflow through their long necks to produce vocalisations. Others have suggested giraffes use low frequency “infrasonic” sounds – sounds below the level of human perception – much like elephants and other large animals do for long-range communication.After reviewing almost 1000 hours of sound recordings in three European zoos, Angela Stöger at the University of Vienna, Austria, found no evidence of infrasonic communication – but she did pick up a weird humming coming from the giraffe enclosures in all three zoos at night.“I was fascinated, because these signals have a very interesting sound and have a complex acoustic structure,” she says.The “hum” turned out to be a low frequency sound, of about 92 hertz. That’s not infrasound – we can still just about hear it unaided. Stöger and her colleagues say the hum varies in duration and contains a rich combination of notes.\"]).toarray(),vect.transform([\"A recent study by researchers from the University of Vienna found that giraffes produce a low hum in the evenings. As Wired points out, it was earlier assumed that giraffes couldn’t really produce any sounds because they couldn’t get enough airflow through their long necks to make their vocal chords vibrate. As it turns out, a giraffe’s larynx is similar to that of a horse. But while zookeepers have heard giraffes snort, the humming had never been picked up by the staff of the three European zoos in the study.The researchers had to visually examine the giraffes’ acoustic data—over 900 hours of recordings made over eight years—to discover the humming. The sound is at a very low frequency, 92Hz, which while not impossible to hear for humans, requires effort to pick up.\"]).toarray())"
   ]
  },
  {
   "cell_type": "code",
   "execution_count": 34,
   "id": "9a4e89d4",
   "metadata": {},
   "outputs": [
    {
     "name": "stdout",
     "output_type": "stream",
     "text": [
      "[[0.72627304]]\n"
     ]
    }
   ],
   "source": [
    "print(similarity)"
   ]
  },
  {
   "cell_type": "code",
   "execution_count": null,
   "id": "97af335e",
   "metadata": {},
   "outputs": [],
   "source": []
  }
 ],
 "metadata": {
  "kernelspec": {
   "display_name": "Python 3 (ipykernel)",
   "language": "python",
   "name": "python3"
  },
  "language_info": {
   "codemirror_mode": {
    "name": "ipython",
    "version": 3
   },
   "file_extension": ".py",
   "mimetype": "text/x-python",
   "name": "python",
   "nbconvert_exporter": "python",
   "pygments_lexer": "ipython3",
   "version": "3.9.12"
  }
 },
 "nbformat": 4,
 "nbformat_minor": 5
}
